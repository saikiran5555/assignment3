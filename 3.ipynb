{
 "cells": [
  {
   "cell_type": "markdown",
   "id": "4c331ad7",
   "metadata": {},
   "source": [
    "In Python, an iterator is an object that allows us to iterate over a collection of elements, such as a list or a dictionary, one item at a time. It provides an interface with two methods: __iter__() and __next__()."
   ]
  },
  {
   "cell_type": "markdown",
   "id": "3a9b8cf0",
   "metadata": {},
   "source": [
    "The __iter__() method is used to initialize the iterator object and return itself. It is called when we create an iterator for a collection."
   ]
  },
  {
   "cell_type": "markdown",
   "id": "bbfa6592",
   "metadata": {},
   "source": [
    "The __next__() method is used to retrieve the next element from the iterator. It returns the next item in the sequence and advances the iterator position."
   ]
  },
  {
   "cell_type": "markdown",
   "id": "b674047b",
   "metadata": {},
   "source": [
    "Here's an example that demonstrates the use of an iterator to print the first five elements of the given list [2, 4, 6, 8, 10, 12, 14, 16, 18, 20]:"
   ]
  },
  {
   "cell_type": "code",
   "execution_count": 1,
   "id": "83d36ffb",
   "metadata": {},
   "outputs": [
    {
     "name": "stdout",
     "output_type": "stream",
     "text": [
      "2\n",
      "4\n",
      "6\n",
      "8\n",
      "10\n"
     ]
    }
   ],
   "source": [
    "my_list = [2, 4, 6, 8, 10, 12, 14, 16, 18, 20]\n",
    "\n",
    "# Create an iterator object\n",
    "my_iterator = iter(my_list)\n",
    "\n",
    "# Print the first five elements using the iterator\n",
    "for _ in range(5):\n",
    "    print(next(my_iterator))\n"
   ]
  },
  {
   "cell_type": "code",
   "execution_count": null,
   "id": "901cf0da",
   "metadata": {},
   "outputs": [],
   "source": []
  }
 ],
 "metadata": {
  "kernelspec": {
   "display_name": "Python 3 (ipykernel)",
   "language": "python",
   "name": "python3"
  },
  "language_info": {
   "codemirror_mode": {
    "name": "ipython",
    "version": 3
   },
   "file_extension": ".py",
   "mimetype": "text/x-python",
   "name": "python",
   "nbconvert_exporter": "python",
   "pygments_lexer": "ipython3",
   "version": "3.10.9"
  }
 },
 "nbformat": 4,
 "nbformat_minor": 5
}
