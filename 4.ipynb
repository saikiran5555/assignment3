{
 "cells": [
  {
   "cell_type": "markdown",
   "id": "2756df49",
   "metadata": {},
   "source": [
    "In Python, a generator function is a special type of function that generates a sequence of values using the yield keyword. Instead of returning a single value like a regular function, a generator function yields a series of values, one at a time, suspending its state between each yield."
   ]
  },
  {
   "cell_type": "markdown",
   "id": "32f8ddee",
   "metadata": {},
   "source": [
    "The yield keyword is used to define the points at which the generator function should yield a value. When the generator function is called, it returns a generator object, which can be iterated over to retrieve the sequence of values."
   ]
  },
  {
   "cell_type": "markdown",
   "id": "334f6eea",
   "metadata": {},
   "source": [
    "The main advantage of using generator functions is that they allow us to generate values on-the-fly, conserving memory as they don't generate the entire sequence at once. Instead, they generate each value as needed, making them efficient for working with large or infinite sequences."
   ]
  },
  {
   "cell_type": "markdown",
   "id": "01c46f39",
   "metadata": {},
   "source": [
    "Here's an example of a generator function that generates a sequence of even numbers up to a given limit:"
   ]
  },
  {
   "cell_type": "code",
   "execution_count": 1,
   "id": "10faf3a6",
   "metadata": {},
   "outputs": [
    {
     "name": "stdout",
     "output_type": "stream",
     "text": [
      "0\n",
      "2\n",
      "4\n",
      "6\n",
      "8\n",
      "10\n"
     ]
    }
   ],
   "source": [
    "def even_numbers(limit):\n",
    "    num = 0\n",
    "    while num <= limit:\n",
    "        yield num\n",
    "        num += 2\n",
    "\n",
    "# Using the generator function\n",
    "my_generator = even_numbers(10)\n",
    "\n",
    "# Iterating over the generator to retrieve values\n",
    "for num in my_generator:\n",
    "    print(num)\n"
   ]
  },
  {
   "cell_type": "code",
   "execution_count": null,
   "id": "9201b84d",
   "metadata": {},
   "outputs": [],
   "source": []
  }
 ],
 "metadata": {
  "kernelspec": {
   "display_name": "Python 3 (ipykernel)",
   "language": "python",
   "name": "python3"
  },
  "language_info": {
   "codemirror_mode": {
    "name": "ipython",
    "version": 3
   },
   "file_extension": ".py",
   "mimetype": "text/x-python",
   "name": "python",
   "nbconvert_exporter": "python",
   "pygments_lexer": "ipython3",
   "version": "3.10.9"
  }
 },
 "nbformat": 4,
 "nbformat_minor": 5
}
