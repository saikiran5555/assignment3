{
 "cells": [
  {
   "cell_type": "markdown",
   "id": "ac6dc98c",
   "metadata": {},
   "source": [
    " Here's a Python program that uses a while loop to print the first 10 Fibonacci numbers:"
   ]
  },
  {
   "cell_type": "code",
   "execution_count": 1,
   "id": "3c9129f0",
   "metadata": {},
   "outputs": [
    {
     "name": "stdout",
     "output_type": "stream",
     "text": [
      "0\n",
      "1\n",
      "1\n",
      "2\n",
      "3\n",
      "5\n",
      "8\n",
      "13\n",
      "21\n",
      "34\n"
     ]
    }
   ],
   "source": [
    "# Function to print the first 10 Fibonacci numbers\n",
    "def print_fibonacci():\n",
    "    # Initialize the first two numbers\n",
    "    num1, num2 = 0, 1\n",
    "    count = 0\n",
    "\n",
    "    # Print the Fibonacci sequence using a while loop\n",
    "    while count < 10:\n",
    "        print(num1)\n",
    "        num1, num2 = num2, num1 + num2\n",
    "        count += 1\n",
    "\n",
    "# Call the function\n",
    "print_fibonacci()\n"
   ]
  },
  {
   "cell_type": "code",
   "execution_count": null,
   "id": "3fe0f064",
   "metadata": {},
   "outputs": [],
   "source": []
  }
 ],
 "metadata": {
  "kernelspec": {
   "display_name": "Python 3 (ipykernel)",
   "language": "python",
   "name": "python3"
  },
  "language_info": {
   "codemirror_mode": {
    "name": "ipython",
    "version": 3
   },
   "file_extension": ".py",
   "mimetype": "text/x-python",
   "name": "python",
   "nbconvert_exporter": "python",
   "pygments_lexer": "ipython3",
   "version": "3.10.9"
  }
 },
 "nbformat": 4,
 "nbformat_minor": 5
}
